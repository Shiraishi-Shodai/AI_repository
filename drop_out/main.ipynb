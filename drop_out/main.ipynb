{
 "cells": [
  {
   "cell_type": "code",
   "execution_count": 2,
   "id": "4e80674e",
   "metadata": {},
   "outputs": [],
   "source": [
    "import numpy as np\n",
    "import pandas as pd\n",
    "from matplotlib import pyplot as plt\n",
    "import japanize_matplotlib\n",
    "import torch"
   ]
  },
  {
   "cell_type": "markdown",
   "id": "8a205be5",
   "metadata": {},
   "source": [
    "## ドロップアウトとは\n",
    "ノードの出力にランダムに0を掛け、ニューラルネットワークの過学習を防ぐ方法。  \n",
    "複数のサブネットマスクで学習を行うことでアンサンブル学習のような働きもする。"
   ]
  },
  {
   "cell_type": "markdown",
   "id": "85a74798",
   "metadata": {},
   "source": [
    "$$\n",
    "ノードの出力 = ノードの出力 * マスク / (1 - P)\n",
    "$$"
   ]
  },
  {
   "cell_type": "code",
   "execution_count": 9,
   "id": "149184b9",
   "metadata": {},
   "outputs": [
    {
     "name": "stderr",
     "output_type": "stream",
     "text": [
      "/tmp/ipykernel_25749/358675597.py:2: UserWarning: torch.range is deprecated and will be removed in a future release because its behavior is inconsistent with Python's range builtin. Instead, use torch.arange, which produces values in [start, end).\n",
      "  z1 = torch.range(1, 10)\n"
     ]
    }
   ],
   "source": [
    "p = 0.3 # ドロップアウトする確率\n",
    "z1 = torch.range(1, 10)\n",
    "mask = torch.tensor([0, 0, 1, 0, 0, 1, 0, 1, 0, 0])"
   ]
  },
  {
   "cell_type": "code",
   "execution_count": 10,
   "id": "b993c973",
   "metadata": {},
   "outputs": [
    {
     "data": {
      "text/plain": [
       "tensor(5.5000)"
      ]
     },
     "execution_count": 10,
     "metadata": {},
     "output_type": "execute_result"
    }
   ],
   "source": [
    "z1_mean = z1.mean()\n",
    "z1_mean"
   ]
  },
  {
   "cell_type": "code",
   "execution_count": 12,
   "id": "15227c89",
   "metadata": {},
   "outputs": [
    {
     "name": "stdout",
     "output_type": "stream",
     "text": [
      "drop out: tensor([0., 0., 3., 0., 0., 6., 0., 8., 0., 0.])\n",
      "drop out mean: 1.7000000476837158\n"
     ]
    }
   ],
   "source": [
    "drop_out = z1 * mask\n",
    "print(f\"drop out: {drop_out}\")\n",
    "\n",
    "drop_out_mean = drop_out.mean()\n",
    "print(f\"drop out mean: {drop_out_mean}\")"
   ]
  },
  {
   "cell_type": "code",
   "execution_count": 14,
   "id": "ebaf11d0",
   "metadata": {},
   "outputs": [
    {
     "name": "stdout",
     "output_type": "stream",
     "text": [
      "tensor(2.4286)\n"
     ]
    }
   ],
   "source": [
    "drop_out2 = drop_out / (1 - p)\n",
    "print(drop_out2.mean())"
   ]
  },
  {
   "cell_type": "code",
   "execution_count": 4,
   "id": "b3fcaa1b",
   "metadata": {},
   "outputs": [
    {
     "data": {
      "text/plain": [
       "array([1, 3, 4])"
      ]
     },
     "execution_count": 4,
     "metadata": {},
     "output_type": "execute_result"
    }
   ],
   "source": [
    "a = np.array([1,  0, 3, 4])\n",
    "a[a > 0]"
   ]
  }
 ],
 "metadata": {
  "kernelspec": {
   "display_name": "env",
   "language": "python",
   "name": "python3"
  },
  "language_info": {
   "codemirror_mode": {
    "name": "ipython",
    "version": 3
   },
   "file_extension": ".py",
   "mimetype": "text/x-python",
   "name": "python",
   "nbconvert_exporter": "python",
   "pygments_lexer": "ipython3",
   "version": "3.12.3"
  }
 },
 "nbformat": 4,
 "nbformat_minor": 5
}
