{
 "cells": [
  {
   "cell_type": "code",
   "execution_count": null,
   "id": "63ea4eac",
   "metadata": {},
   "outputs": [],
   "source": [
    "import numpy as np\n",
    "import torch\n",
    "from matplotlib import pyplot as plt\n",
    "import japanize_matplotlib\n",
    "import pandas as pd\n",
    "from torchvision import datasets, transforms\n",
    "from torch.utils.data import DataLoader\n",
    "import torchvision.transforms.functional as F"
   ]
  },
  {
   "cell_type": "code",
   "execution_count": 2,
   "id": "f7057e92",
   "metadata": {},
   "outputs": [],
   "source": [
    "transform = transforms.Compose([\n",
    "    transforms.Resize((5, 5)),\n",
    "    transforms.ToTensor(),\n",
    "    transforms.Normalize((0.1307,), (0.3081,))\n",
    "])"
   ]
  },
  {
   "cell_type": "code",
   "execution_count": 3,
   "id": "0eb03aef",
   "metadata": {},
   "outputs": [],
   "source": [
    "train_dataset = datasets.MNIST(root=\"../../data\", train=True, download=True, transform=transform)\n",
    "test_dataset = datasets.MNIST(root=\"../../data\", train=False, download=True, transform=transform)"
   ]
  },
  {
   "cell_type": "code",
   "execution_count": 4,
   "id": "e5a46c18",
   "metadata": {},
   "outputs": [
    {
     "data": {
      "text/plain": [
       "torchvision.datasets.mnist.MNIST"
      ]
     },
     "execution_count": 4,
     "metadata": {},
     "output_type": "execute_result"
    }
   ],
   "source": [
    "type(train_dataset)"
   ]
  },
  {
   "cell_type": "code",
   "execution_count": 5,
   "id": "955b8be4",
   "metadata": {},
   "outputs": [],
   "source": [
    "train_loader = DataLoader(train_dataset, batch_size=64, shuffle=True)\n",
    "test_loader = DataLoader(test_dataset, batch_size=64, shuffle=False)"
   ]
  },
  {
   "cell_type": "code",
   "execution_count": 9,
   "id": "bbfd72ad",
   "metadata": {},
   "outputs": [
    {
     "name": "stdout",
     "output_type": "stream",
     "text": [
      "torch.Size([1, 5, 5]) 5\n",
      "tensor([[[-0.4242, -0.3224, -0.0806, -0.0042, -0.2842],\n",
      "         [-0.4242,  0.4668,  1.3577,  0.4286, -0.2460],\n",
      "         [-0.4242, -0.2842,  0.6450,  0.1740, -0.4242],\n",
      "         [-0.3606,  0.1231,  1.0523,  0.5813, -0.4242],\n",
      "         [-0.1569,  0.6450,  0.1740, -0.3733, -0.4242]]])\n"
     ]
    },
    {
     "data": {
      "image/png": "[encoded data removed]",
      "text/plain": [
       "<Figure size 640x480 with 1 Axes>"
      ]
     },
     "metadata": {},
     "output_type": "display_data"
    }
   ],
   "source": [
    "x_sample, y_sample = train_dataset[0]\n",
    "print(x_sample.shape, y_sample)\n",
    "print(x_sample)\n",
    "\n",
    "# img = x_sample[0]\n",
    "img = x_sample.permute(1, 2, 0) # imshowで画像を表示する際は、高さ、幅、チャンネル\n",
    "plt.imshow(img, cmap=\"gray\")\n",
    "plt.show()"
   ]
  },
  {
   "cell_type": "markdown",
   "id": "52ec1119",
   "metadata": {},
   "source": [
    "## 二次元データの畳込み"
   ]
  },
  {
   "cell_type": "code",
   "execution_count": 6,
   "id": "b5eee4e4",
   "metadata": {},
   "outputs": [],
   "source": [
    "# フィルターの定義\n",
    "H = torch.tensor([\n",
    "    [2, 0, -2],\n",
    "    [0, 2, 0],\n",
    "    [-2, 0, 2],\n",
    "], dtype=torch.float)"
   ]
  },
  {
   "cell_type": "code",
   "execution_count": null,
   "id": "f5e0a381",
   "metadata": {},
   "outputs": [],
   "source": [
    "def convolutionDim2(x, H, S=1, P=0):\n",
    "\n",
    "    try:\n",
    "        w = x.shape[1] # 特徴マップの高さ\n",
    "        h = H.shape[0] # フィルタの高さ\n",
    "        output_size = ((w + 2*P - h) / S) + 1\n",
    "        \n",
    "        # print(f\"畳み込み後のサイズ：{output_size} {type(output_size)}\")\n",
    "        if not output_size.is_integer() or  output_size <= 0: # 少数が整数になりえない、またはサイズが0以下のとき、畳み込み不可\n",
    "            raise ValueError(\"畳み込み出来ません\")\n",
    "\n",
    "    except ValueError as e:\n",
    "        print(e)\n",
    "    else:\n",
    "        output_size = int(output_size)\n",
    "        u = torch.zeros(output_size, output_size)\n",
    "\n",
    "        for i in range(output_size):\n",
    "            for j in range(output_size):\n",
    "                cell = 0\n",
    "                for p in range(h):\n",
    "                    for q in range(h):\n",
    "                        cell += x[0, i + p, j + q] * H[p, q]\n",
    "                \n",
    "                u[i, j] = cell\n",
    "        \n",
    "    return u"
   ]
  },
  {
   "cell_type": "code",
   "execution_count": 17,
   "id": "dd495d32",
   "metadata": {},
   "outputs": [
    {
     "name": "stdout",
     "output_type": "stream",
     "text": [
      "3\n",
      "tensor([[ 2.3845,  2.9955, -0.8739],\n",
      "        [-1.3066,  2.2827,  0.6026],\n",
      "        [-1.2303, -0.8484,  2.1045]])\n",
      "tensor(2.3845)\n",
      "tensor(-1.3066)\n"
     ]
    }
   ],
   "source": [
    "u = convolutionDim2(x_sample, H, S=1)\n",
    "print(u)\n",
    "print(torch.sum(x_sample[0, :3, :3]  * H))\n",
    "print(torch.sum(x_sample[0, 1:4, :3]  * H))"
   ]
  },
  {
   "cell_type": "markdown",
   "id": "2015e00f",
   "metadata": {},
   "source": [
    "バイアスの追加"
   ]
  },
  {
   "cell_type": "code",
   "execution_count": 18,
   "id": "d2690728",
   "metadata": {},
   "outputs": [
    {
     "name": "stdout",
     "output_type": "stream",
     "text": [
      "tensor([[5.3845, 5.9955, 2.1261],\n",
      "        [1.6934, 5.2827, 3.6026],\n",
      "        [1.7697, 2.1516, 5.1045]])\n"
     ]
    }
   ],
   "source": [
    "b = 3\n",
    "u = u + b\n",
    "print(u)"
   ]
  },
  {
   "cell_type": "markdown",
   "id": "e591694d",
   "metadata": {},
   "source": [
    "## 三次元データの畳込み"
   ]
  },
  {
   "cell_type": "code",
   "execution_count": 19,
   "id": "7e85f67d",
   "metadata": {},
   "outputs": [],
   "source": [
    "train_dataset = datasets.CIFAR10(root=\"../../data\", train=True, transform=transform, download=True)\n",
    "test_dataset = datasets.CIFAR10(root=\"../../data\", train=False, transform=transform, download=True)"
   ]
  },
  {
   "cell_type": "code",
   "execution_count": 20,
   "id": "e9708559",
   "metadata": {},
   "outputs": [
    {
     "name": "stderr",
     "output_type": "stream",
     "text": [
      "Clipping input data to the valid range for imshow with RGB data ([0..1] for floats or [0..255] for integers). Got range [0.008547009..2.121434].\n"
     ]
    },
    {
     "name": "stdout",
     "output_type": "stream",
     "text": [
      "torch.Size([3, 5, 5]) 6\n"
     ]
    },
    {
     "data": {
      "image/png": "[encoded data removed]",
      "text/plain": [
       "<Figure size 640x480 with 1 Axes>"
      ]
     },
     "metadata": {},
     "output_type": "display_data"
    }
   ],
   "source": [
    "x_sample, y_sample = train_dataset[0]\n",
    "print(x_sample.shape, y_sample)\n",
    "\n",
    "img = x_sample.permute(1, 2, 0)\n",
    "plt.imshow(img)\n",
    "plt.show()"
   ]
  },
  {
   "cell_type": "code",
   "execution_count": 22,
   "id": "ea71e90f",
   "metadata": {},
   "outputs": [],
   "source": [
    "def convolutionDim3(x, H, S=1, P=0):\n",
    "    \"\"\"3次元の一枚の画像データを畳み込む\n",
    "    フィルタも3次元\n",
    "    \"\"\"\n",
    "    try:\n",
    "        channel = x.shape[0] # チャンネル数を取得\n",
    "        w = x.shape[1] # 特徴マップの高さ\n",
    "        h = H.shape[0] # フィルタの高さ\n",
    "        output_size = ((w + 2*P - h) / S) + 1\n",
    "        \n",
    "        # print(f\"畳み込み後のサイズ：{output_size} {type(output_size)}\")\n",
    "        if not output_size.is_integer() or  output_size <= 0: # 少数が整数になりえない、またはサイズが0以下のとき、畳み込み不可\n",
    "            raise ValueError(\"畳み込み出来ません\")\n",
    "\n",
    "    except ValueError as e:\n",
    "        print(e)\n",
    "    else:\n",
    "        output_size = int(output_size)\n",
    "        u = torch.zeros(channel, output_size, output_size)\n",
    "\n",
    "        for c in range(channel): # チャンネル\n",
    "            for i in range(output_size):\n",
    "                for j in range(output_size):\n",
    "                    cell = 0\n",
    "                    for p in range(h):\n",
    "                        for q in range(h):\n",
    "                            cell += x[c, i + p, j + q] * H[c, p, q] # チャンネルを考慮\n",
    "                    \n",
    "                    u[c, i, j] = cell\n",
    "        \n",
    "        u = torch.sum(u, dim=0) # チャンネル方向に足し合わせる\n",
    "        \n",
    "    return u"
   ]
  },
  {
   "cell_type": "code",
   "execution_count": 23,
   "id": "e1e3e841",
   "metadata": {},
   "outputs": [
    {
     "name": "stdout",
     "output_type": "stream",
     "text": [
      "tensor([[[-0.4910, -0.9026,  1.0883],\n",
      "         [ 0.2552, -0.1153, -0.3729],\n",
      "         [ 0.1589, -0.8793, -0.6969]],\n",
      "\n",
      "        [[-1.9965, -0.3788,  0.2069],\n",
      "         [-1.5207,  0.1279, -0.3638],\n",
      "         [-0.4714,  1.1833,  0.2958]],\n",
      "\n",
      "        [[-0.4684, -0.3095,  0.0670],\n",
      "         [-0.1556,  0.6361, -0.2556],\n",
      "         [ 0.8101,  1.4726,  1.0646]]])\n"
     ]
    }
   ],
   "source": [
    "H = torch.randn((3, 3, 3))\n",
    "print(H)"
   ]
  },
  {
   "cell_type": "code",
   "execution_count": 24,
   "id": "299dc584",
   "metadata": {},
   "outputs": [
    {
     "name": "stdout",
     "output_type": "stream",
     "text": [
      "tensor([[-1.2872, -0.2528, -0.9736],\n",
      "        [-2.9309, -3.1860, -4.3785],\n",
      "        [-3.4367, -6.2687, -8.2695]])\n",
      "tensor(-1.2872)\n",
      "tensor(-2.9309)\n"
     ]
    }
   ],
   "source": [
    "u = convolutionDim3(x_sample, H)\n",
    "print(u)\n",
    "\n",
    "print(torch.sum(x_sample[:, :3, :3] * H))\n",
    "print(torch.sum(x_sample[:, 1:4, :3] * H))"
   ]
  },
  {
   "cell_type": "markdown",
   "id": "fedefd37",
   "metadata": {},
   "source": [
    "## 出力が他チャンネルになる3次元畳み込み"
   ]
  },
  {
   "cell_type": "code",
   "execution_count": null,
   "id": "4b427d62",
   "metadata": {},
   "outputs": [
    {
     "name": "stdout",
     "output_type": "stream",
     "text": [
      "torch.Size([5, 3, 3, 3])\n"
     ]
    }
   ],
   "source": [
    "H = torch.randn(5, 3, 3, 3) # 特徴マップとチャンネル数を合わせる\n",
    "print(H.shape)"
   ]
  },
  {
   "cell_type": "code",
   "execution_count": 48,
   "id": "30c0661e",
   "metadata": {},
   "outputs": [],
   "source": [
    "def convolutionBlock(x, H, S=1, P=0):\n",
    "    w = x.shape[1]\n",
    "    h = H.shape[2]\n",
    "    channel = x.shape[0]\n",
    "    fn = H.shape[0] # アウトプットのチャンネル数\n",
    "\n",
    "    try:\n",
    "        output_size = ((w + 2*P - h) / S) + 1\n",
    "\n",
    "        if not output_size.is_integer() or output_size <= 0:\n",
    "            raise ValueError(\"畳み込み出来ません\")\n",
    "    except ValueError as e:\n",
    "        print(e)\n",
    "    else:\n",
    "        output_size = int(output_size)\n",
    "        u = torch.zeros(fn, channel, output_size, output_size)\n",
    "\n",
    "        for f in range(fn): # 5\n",
    "            for c in range(channel): # \n",
    "                for i in range(output_size): # 3\n",
    "                    for j in range(output_size): # 3\n",
    "                        cell = 0\n",
    "                        for p in range(h): # 3\n",
    "                            for q in range(h): # 3\n",
    "                                cell += x[c, i + p, j + q] * H[f, c, p, q] \n",
    "                        \n",
    "                        u[f, c, i, j] = cell\n",
    "        \n",
    "        u = torch.sum(u, dim=1) # チャンネル方向に足し合わせる\n",
    "    return u\n"
   ]
  },
  {
   "cell_type": "code",
   "execution_count": 49,
   "id": "97170e89",
   "metadata": {},
   "outputs": [
    {
     "name": "stdout",
     "output_type": "stream",
     "text": [
      "torch.Size([5, 3, 3])\n"
     ]
    }
   ],
   "source": [
    "u = convolutionBlock(x_sample, H)\n",
    "print(u.shape)"
   ]
  },
  {
   "cell_type": "markdown",
   "id": "8c975f1b",
   "metadata": {},
   "source": []
  }
 ],
 "metadata": {
  "kernelspec": {
   "display_name": "env",
   "language": "python",
   "name": "python3"
  },
  "language_info": {
   "codemirror_mode": {
    "name": "ipython",
    "version": 3
   },
   "file_extension": ".py",
   "mimetype": "text/x-python",
   "name": "python",
   "nbconvert_exporter": "python",
   "pygments_lexer": "ipython3",
   "version": "3.12.3"
  }
 },
 "nbformat": 4,
 "nbformat_minor": 5
}
