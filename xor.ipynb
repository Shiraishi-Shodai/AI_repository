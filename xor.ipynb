{
 "cells": [
  {
   "cell_type": "markdown",
   "id": "2710736d",
   "metadata": {},
   "source": [
    "# 2層のニューラルネットワークでXOR問題を解く"
   ]
  },
  {
   "cell_type": "code",
   "execution_count": 3,
   "id": "32249798",
   "metadata": {},
   "outputs": [],
   "source": [
    "import numpy as np"
   ]
  },
  {
   "cell_type": "code",
   "execution_count": 1,
   "id": "084a8d4e",
   "metadata": {},
   "outputs": [],
   "source": [
    "def stepFunc(u, theta=0.5): \n",
    "    if u >= theta:\n",
    "        return 1\n",
    "    else:\n",
    "        return 0"
   ]
  },
  {
   "cell_type": "code",
   "execution_count": null,
   "id": "7055fa87",
   "metadata": {},
   "outputs": [
    {
     "name": "stdout",
     "output_type": "stream",
     "text": [
      "[0, 1, 1, 0]\n"
     ]
    }
   ],
   "source": [
    "X = np.array([[0, 0], [1, 0], [0, 1], [1, 1]])\n",
    "\n",
    "w1 = np.array([[1, -3],\n",
    "               [-3, 1]])\n",
    "\n",
    "w2 = np.array([2, 4]) # np.array([1, 1])と結果は同じ\n",
    "\n",
    "result = []\n",
    "for i in range(len(X)):\n",
    "    u1 = X[i]@w1\n",
    "    z1 = np.array(list(map(lambda u: stepFunc(u), u1)))\n",
    "\n",
    "    u2 = z1@w2\n",
    "    z2 = stepFunc(u2)\n",
    "\n",
    "    result.append(z2)\n",
    "\n",
    "print(result)"
   ]
  }
 ],
 "metadata": {
  "kernelspec": {
   "display_name": "env",
   "language": "python",
   "name": "python3"
  },
  "language_info": {
   "codemirror_mode": {
    "name": "ipython",
    "version": 3
   },
   "file_extension": ".py",
   "mimetype": "text/x-python",
   "name": "python",
   "nbconvert_exporter": "python",
   "pygments_lexer": "ipython3",
   "version": "3.12.3"
  }
 },
 "nbformat": 4,
 "nbformat_minor": 5
}
